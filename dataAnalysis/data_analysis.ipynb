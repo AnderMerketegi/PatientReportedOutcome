{
  "nbformat": 4,
  "nbformat_minor": 0,
  "metadata": {
    "colab": {
      "provenance": [],
      "collapsed_sections": [],
      "toc_visible": true
    },
    "kernelspec": {
      "name": "python3",
      "display_name": "Python 3"
    },
    "language_info": {
      "name": "python"
    }
  },
  "cells": [
    {
      "cell_type": "markdown",
      "source": [
        "# Data Analysis for Patient Reported Outcome related articles"
      ],
      "metadata": {
        "id": "G5_e7RU7PEYL"
      }
    },
    {
      "cell_type": "code",
      "execution_count": 1,
      "metadata": {
        "id": "6Spifd-v4Dn4"
      },
      "outputs": [],
      "source": [
        "# import packages\n",
        "\n",
        "import pandas as pd\n",
        "import numpy as np\n",
        "import os\n",
        "import glob\n",
        "import matplotlib.pyplot as plt"
      ]
    },
    {
      "cell_type": "code",
      "source": [
        "# define absolute path and data path\n",
        "\n",
        "PATH = \"/content/drive/MyDrive/GitHub/PatientReportedOutcome/\"\n",
        "data_path = PATH + \"Data/\""
      ],
      "metadata": {
        "id": "zKRR0bIlPDQm"
      },
      "execution_count": 2,
      "outputs": []
    },
    {
      "cell_type": "markdown",
      "source": [
        "##1. Count number of articles available for all categories: PRO and noPRO\n",
        "For the text classification task, articles published in languages other than English has been discarded for now."
      ],
      "metadata": {
        "id": "wWu8mKqDP6X0"
      }
    },
    {
      "cell_type": "code",
      "source": [
        "n_articles_dict = {\n",
        "    \"PRO\" : {\n",
        "        \"2013-14\" : 0,\n",
        "        \"2015\" : 0,\n",
        "        \"2016\" : 0\n",
        "    },\n",
        "    \"noPRO\" : {\n",
        "        \"2013-14\" : 0,\n",
        "        \"2015\" : 0,\n",
        "        \"2016\" : 0\n",
        "    },\n",
        "    \"noTITOL\" : 0\n",
        "}"
      ],
      "metadata": {
        "id": "tRTASyMHTcaC"
      },
      "execution_count": 3,
      "outputs": []
    },
    {
      "cell_type": "code",
      "source": [
        "# define paths for the categories\n",
        "pro_data_path = data_path + \"PRO/txt/en/\"\n",
        "nopro_data_path = data_path + \"noPRO/txt/en/\"\n",
        "notitol_data_path = data_path + \"noTITOL/txt/en/\"\n",
        "\n",
        "# define list with previously defined paths\n",
        "class_paths = [pro_data_path, nopro_data_path, notitol_data_path]\n",
        "\n",
        "for path in class_paths:\n",
        "  if path != notitol_data_path:\n",
        "  # just consider full texts in this first analysis\n",
        "    for year in [y for y in os.listdir(path) if y!=\"summaries\"]:\n",
        "      n_articles_dict[path.split(\"/\")[-4]][str(year)] = len(os.listdir(path + year))\n",
        "  else:\n",
        "      n_articles_dict[path.split(\"/\")[-4]] = len(os.listdir(path))\n",
        "\n",
        "print(n_articles_dict)\n",
        "print(f\"\\nTotal number of articles for PRO class: {sum(n_articles_dict['PRO'].values())}\")\n",
        "print(f\"Total number of articles for noPRO class: {sum(n_articles_dict['noPRO'].values()) + n_articles_dict['noTITOL']}\")"
      ],
      "metadata": {
        "colab": {
          "base_uri": "https://localhost:8080/"
        },
        "id": "OxxTiidyP4W7",
        "outputId": "641964f6-0c54-4bc7-f0ec-7118487665fe"
      },
      "execution_count": 4,
      "outputs": [
        {
          "output_type": "stream",
          "name": "stdout",
          "text": [
            "{'PRO': {'2013-14': 672, '2015': 336, '2016': 339}, 'noPRO': {'2013-14': 144, '2015': 284, '2016': 299}, 'noTITOL': 1068}\n",
            "\n",
            "Total number of articles for PRO class: 1347\n",
            "Total number of articles for noPRO class: 1795\n"
          ]
        }
      ]
    },
    {
      "cell_type": "markdown",
      "source": [
        "In the following cell, I will check the number of instruments for each category that were found in the original excel file, and then, compare those values to the amount of articles I obtained."
      ],
      "metadata": {
        "id": "sis0rCaOZF6E"
      }
    },
    {
      "cell_type": "code",
      "source": [
        "# load datasets\n",
        "bd_2013_14 = pd.read_excel(data_path + \"bd_2013_2014.xlsx\")\n",
        "bd_2015 = pd.read_excel(data_path + \"bd_2015.xlsx\")\n",
        "bd_2016 = pd.read_excel(data_path + \"bd_2016.xlsx\")"
      ],
      "metadata": {
        "id": "X2Mvy-goUegA"
      },
      "execution_count": 5,
      "outputs": []
    },
    {
      "cell_type": "markdown",
      "source": [
        "This is an example of how the excel files look like. All the columns that are after *filtro_instrumento* belong to the names of the instruments or questionnaires that are present in the article. Some of them were already stored in BiblioPRO, while others were new questionnaires that were collected for the first time."
      ],
      "metadata": {
        "id": "aaWpNaZKQauS"
      }
    },
    {
      "cell_type": "code",
      "source": [
        "display(bd_2013_14.head())\n",
        "print(f\"Number of columns: {len(bd_2013_14.columns)}\")"
      ],
      "metadata": {
        "colab": {
          "base_uri": "https://localhost:8080/",
          "height": 352
        },
        "id": "qH8B3tZBQaUC",
        "outputId": "f27bd126-dc6b-4728-e483-d671884506e9"
      },
      "execution_count": 11,
      "outputs": [
        {
          "output_type": "display_data",
          "data": {
            "text/plain": [
              "          pmid  refid  filtro_titol  filtro_instrumento  \\\n",
              "0  PM:21245050   2427             1                   1   \n",
              "1  PM:21435750   2426             1                   0   \n",
              "2  PM:21467092   2425             1                   1   \n",
              "3  PM:21477827   2424             0                   0   \n",
              "4  PM:21529862   2423             0                   0   \n",
              "\n",
              "                            Instrumentos_BiblioPRO_1 BiblioPRO_SIGLAS_1  \\\n",
              "0  Depression in the Medically Ill questionnaire ...             DMI-18   \n",
              "1                                                NaN                NaN   \n",
              "2         Cognitive Emotion Regulation Questionnaire               CERQ   \n",
              "3                                                NaN                NaN   \n",
              "4                                                NaN                NaN   \n",
              "\n",
              "                            Instrumentos_BiblioPRO_2 BiblioPRO_SIGLAS_2  \\\n",
              "0  Depression in the Medically Ill questionnaire ...             DMI-10   \n",
              "1                                                NaN                NaN   \n",
              "2                    Inventario de Depresión de Beck                BDI   \n",
              "3                                                NaN                NaN   \n",
              "4                                                NaN                NaN   \n",
              "\n",
              "                            Instrumentos_BiblioPRO_3 BiblioPRO_SIGLAS_3  ...  \\\n",
              "0                       Beck Depression Inventory-II             BDI-II  ...   \n",
              "1                                                NaN                NaN  ...   \n",
              "2  Versión española del State-Trait Anxiety Inven...               STAI  ...   \n",
              "3                                                NaN                NaN  ...   \n",
              "4                                                NaN                NaN  ...   \n",
              "\n",
              "  NUEVO_SIGLAS_1 Instrumento_NUEVO_ESP_2 Instrumento_NUEVO_ENG_2  \\\n",
              "0         BDI-PC                     NaN                     NaN   \n",
              "1            NaN                     NaN                     NaN   \n",
              "2            NaN                     NaN                     NaN   \n",
              "3            NaN                     NaN                     NaN   \n",
              "4            NaN                     NaN                     NaN   \n",
              "\n",
              "  NUEVO_SIGLAS_2 Instrumento_NUEVO_ESP_3 Instrumento_NUEVO_ENG_3  \\\n",
              "0            NaN                     NaN                     NaN   \n",
              "1            NaN                     NaN                     NaN   \n",
              "2            NaN                     NaN                     NaN   \n",
              "3            NaN                     NaN                     NaN   \n",
              "4            NaN                     NaN                     NaN   \n",
              "\n",
              "  NUEVO_SIGLAS_3 Instrumento_NUEVO_ESP_4 Instrumento_NUEVO_ENG_4  \\\n",
              "0            NaN                     NaN                     NaN   \n",
              "1            NaN                     NaN                     NaN   \n",
              "2            NaN                     NaN                     NaN   \n",
              "3            NaN                     NaN                     NaN   \n",
              "4            NaN                     NaN                     NaN   \n",
              "\n",
              "  NUEVO_SIGLAS_4  \n",
              "0            NaN  \n",
              "1            NaN  \n",
              "2            NaN  \n",
              "3            NaN  \n",
              "4            NaN  \n",
              "\n",
              "[5 rows x 32 columns]"
            ],
            "text/html": [
              "\n",
              "  <div id=\"df-5206bdb4-43bd-475c-9b63-17aa87a630d2\">\n",
              "    <div class=\"colab-df-container\">\n",
              "      <div>\n",
              "<style scoped>\n",
              "    .dataframe tbody tr th:only-of-type {\n",
              "        vertical-align: middle;\n",
              "    }\n",
              "\n",
              "    .dataframe tbody tr th {\n",
              "        vertical-align: top;\n",
              "    }\n",
              "\n",
              "    .dataframe thead th {\n",
              "        text-align: right;\n",
              "    }\n",
              "</style>\n",
              "<table border=\"1\" class=\"dataframe\">\n",
              "  <thead>\n",
              "    <tr style=\"text-align: right;\">\n",
              "      <th></th>\n",
              "      <th>pmid</th>\n",
              "      <th>refid</th>\n",
              "      <th>filtro_titol</th>\n",
              "      <th>filtro_instrumento</th>\n",
              "      <th>Instrumentos_BiblioPRO_1</th>\n",
              "      <th>BiblioPRO_SIGLAS_1</th>\n",
              "      <th>Instrumentos_BiblioPRO_2</th>\n",
              "      <th>BiblioPRO_SIGLAS_2</th>\n",
              "      <th>Instrumentos_BiblioPRO_3</th>\n",
              "      <th>BiblioPRO_SIGLAS_3</th>\n",
              "      <th>...</th>\n",
              "      <th>NUEVO_SIGLAS_1</th>\n",
              "      <th>Instrumento_NUEVO_ESP_2</th>\n",
              "      <th>Instrumento_NUEVO_ENG_2</th>\n",
              "      <th>NUEVO_SIGLAS_2</th>\n",
              "      <th>Instrumento_NUEVO_ESP_3</th>\n",
              "      <th>Instrumento_NUEVO_ENG_3</th>\n",
              "      <th>NUEVO_SIGLAS_3</th>\n",
              "      <th>Instrumento_NUEVO_ESP_4</th>\n",
              "      <th>Instrumento_NUEVO_ENG_4</th>\n",
              "      <th>NUEVO_SIGLAS_4</th>\n",
              "    </tr>\n",
              "  </thead>\n",
              "  <tbody>\n",
              "    <tr>\n",
              "      <th>0</th>\n",
              "      <td>PM:21245050</td>\n",
              "      <td>2427</td>\n",
              "      <td>1</td>\n",
              "      <td>1</td>\n",
              "      <td>Depression in the Medically Ill questionnaire ...</td>\n",
              "      <td>DMI-18</td>\n",
              "      <td>Depression in the Medically Ill questionnaire ...</td>\n",
              "      <td>DMI-10</td>\n",
              "      <td>Beck Depression Inventory-II</td>\n",
              "      <td>BDI-II</td>\n",
              "      <td>...</td>\n",
              "      <td>BDI-PC</td>\n",
              "      <td>NaN</td>\n",
              "      <td>NaN</td>\n",
              "      <td>NaN</td>\n",
              "      <td>NaN</td>\n",
              "      <td>NaN</td>\n",
              "      <td>NaN</td>\n",
              "      <td>NaN</td>\n",
              "      <td>NaN</td>\n",
              "      <td>NaN</td>\n",
              "    </tr>\n",
              "    <tr>\n",
              "      <th>1</th>\n",
              "      <td>PM:21435750</td>\n",
              "      <td>2426</td>\n",
              "      <td>1</td>\n",
              "      <td>0</td>\n",
              "      <td>NaN</td>\n",
              "      <td>NaN</td>\n",
              "      <td>NaN</td>\n",
              "      <td>NaN</td>\n",
              "      <td>NaN</td>\n",
              "      <td>NaN</td>\n",
              "      <td>...</td>\n",
              "      <td>NaN</td>\n",
              "      <td>NaN</td>\n",
              "      <td>NaN</td>\n",
              "      <td>NaN</td>\n",
              "      <td>NaN</td>\n",
              "      <td>NaN</td>\n",
              "      <td>NaN</td>\n",
              "      <td>NaN</td>\n",
              "      <td>NaN</td>\n",
              "      <td>NaN</td>\n",
              "    </tr>\n",
              "    <tr>\n",
              "      <th>2</th>\n",
              "      <td>PM:21467092</td>\n",
              "      <td>2425</td>\n",
              "      <td>1</td>\n",
              "      <td>1</td>\n",
              "      <td>Cognitive Emotion Regulation Questionnaire</td>\n",
              "      <td>CERQ</td>\n",
              "      <td>Inventario de Depresión de Beck</td>\n",
              "      <td>BDI</td>\n",
              "      <td>Versión española del State-Trait Anxiety Inven...</td>\n",
              "      <td>STAI</td>\n",
              "      <td>...</td>\n",
              "      <td>NaN</td>\n",
              "      <td>NaN</td>\n",
              "      <td>NaN</td>\n",
              "      <td>NaN</td>\n",
              "      <td>NaN</td>\n",
              "      <td>NaN</td>\n",
              "      <td>NaN</td>\n",
              "      <td>NaN</td>\n",
              "      <td>NaN</td>\n",
              "      <td>NaN</td>\n",
              "    </tr>\n",
              "    <tr>\n",
              "      <th>3</th>\n",
              "      <td>PM:21477827</td>\n",
              "      <td>2424</td>\n",
              "      <td>0</td>\n",
              "      <td>0</td>\n",
              "      <td>NaN</td>\n",
              "      <td>NaN</td>\n",
              "      <td>NaN</td>\n",
              "      <td>NaN</td>\n",
              "      <td>NaN</td>\n",
              "      <td>NaN</td>\n",
              "      <td>...</td>\n",
              "      <td>NaN</td>\n",
              "      <td>NaN</td>\n",
              "      <td>NaN</td>\n",
              "      <td>NaN</td>\n",
              "      <td>NaN</td>\n",
              "      <td>NaN</td>\n",
              "      <td>NaN</td>\n",
              "      <td>NaN</td>\n",
              "      <td>NaN</td>\n",
              "      <td>NaN</td>\n",
              "    </tr>\n",
              "    <tr>\n",
              "      <th>4</th>\n",
              "      <td>PM:21529862</td>\n",
              "      <td>2423</td>\n",
              "      <td>0</td>\n",
              "      <td>0</td>\n",
              "      <td>NaN</td>\n",
              "      <td>NaN</td>\n",
              "      <td>NaN</td>\n",
              "      <td>NaN</td>\n",
              "      <td>NaN</td>\n",
              "      <td>NaN</td>\n",
              "      <td>...</td>\n",
              "      <td>NaN</td>\n",
              "      <td>NaN</td>\n",
              "      <td>NaN</td>\n",
              "      <td>NaN</td>\n",
              "      <td>NaN</td>\n",
              "      <td>NaN</td>\n",
              "      <td>NaN</td>\n",
              "      <td>NaN</td>\n",
              "      <td>NaN</td>\n",
              "      <td>NaN</td>\n",
              "    </tr>\n",
              "  </tbody>\n",
              "</table>\n",
              "<p>5 rows × 32 columns</p>\n",
              "</div>\n",
              "      <button class=\"colab-df-convert\" onclick=\"convertToInteractive('df-5206bdb4-43bd-475c-9b63-17aa87a630d2')\"\n",
              "              title=\"Convert this dataframe to an interactive table.\"\n",
              "              style=\"display:none;\">\n",
              "        \n",
              "  <svg xmlns=\"http://www.w3.org/2000/svg\" height=\"24px\"viewBox=\"0 0 24 24\"\n",
              "       width=\"24px\">\n",
              "    <path d=\"M0 0h24v24H0V0z\" fill=\"none\"/>\n",
              "    <path d=\"M18.56 5.44l.94 2.06.94-2.06 2.06-.94-2.06-.94-.94-2.06-.94 2.06-2.06.94zm-11 1L8.5 8.5l.94-2.06 2.06-.94-2.06-.94L8.5 2.5l-.94 2.06-2.06.94zm10 10l.94 2.06.94-2.06 2.06-.94-2.06-.94-.94-2.06-.94 2.06-2.06.94z\"/><path d=\"M17.41 7.96l-1.37-1.37c-.4-.4-.92-.59-1.43-.59-.52 0-1.04.2-1.43.59L10.3 9.45l-7.72 7.72c-.78.78-.78 2.05 0 2.83L4 21.41c.39.39.9.59 1.41.59.51 0 1.02-.2 1.41-.59l7.78-7.78 2.81-2.81c.8-.78.8-2.07 0-2.86zM5.41 20L4 18.59l7.72-7.72 1.47 1.35L5.41 20z\"/>\n",
              "  </svg>\n",
              "      </button>\n",
              "      \n",
              "  <style>\n",
              "    .colab-df-container {\n",
              "      display:flex;\n",
              "      flex-wrap:wrap;\n",
              "      gap: 12px;\n",
              "    }\n",
              "\n",
              "    .colab-df-convert {\n",
              "      background-color: #E8F0FE;\n",
              "      border: none;\n",
              "      border-radius: 50%;\n",
              "      cursor: pointer;\n",
              "      display: none;\n",
              "      fill: #1967D2;\n",
              "      height: 32px;\n",
              "      padding: 0 0 0 0;\n",
              "      width: 32px;\n",
              "    }\n",
              "\n",
              "    .colab-df-convert:hover {\n",
              "      background-color: #E2EBFA;\n",
              "      box-shadow: 0px 1px 2px rgba(60, 64, 67, 0.3), 0px 1px 3px 1px rgba(60, 64, 67, 0.15);\n",
              "      fill: #174EA6;\n",
              "    }\n",
              "\n",
              "    [theme=dark] .colab-df-convert {\n",
              "      background-color: #3B4455;\n",
              "      fill: #D2E3FC;\n",
              "    }\n",
              "\n",
              "    [theme=dark] .colab-df-convert:hover {\n",
              "      background-color: #434B5C;\n",
              "      box-shadow: 0px 1px 3px 1px rgba(0, 0, 0, 0.15);\n",
              "      filter: drop-shadow(0px 1px 2px rgba(0, 0, 0, 0.3));\n",
              "      fill: #FFFFFF;\n",
              "    }\n",
              "  </style>\n",
              "\n",
              "      <script>\n",
              "        const buttonEl =\n",
              "          document.querySelector('#df-5206bdb4-43bd-475c-9b63-17aa87a630d2 button.colab-df-convert');\n",
              "        buttonEl.style.display =\n",
              "          google.colab.kernel.accessAllowed ? 'block' : 'none';\n",
              "\n",
              "        async function convertToInteractive(key) {\n",
              "          const element = document.querySelector('#df-5206bdb4-43bd-475c-9b63-17aa87a630d2');\n",
              "          const dataTable =\n",
              "            await google.colab.kernel.invokeFunction('convertToInteractive',\n",
              "                                                     [key], {});\n",
              "          if (!dataTable) return;\n",
              "\n",
              "          const docLinkHtml = 'Like what you see? Visit the ' +\n",
              "            '<a target=\"_blank\" href=https://colab.research.google.com/notebooks/data_table.ipynb>data table notebook</a>'\n",
              "            + ' to learn more about interactive tables.';\n",
              "          element.innerHTML = '';\n",
              "          dataTable['output_type'] = 'display_data';\n",
              "          await google.colab.output.renderOutput(dataTable, element);\n",
              "          const docLink = document.createElement('div');\n",
              "          docLink.innerHTML = docLinkHtml;\n",
              "          element.appendChild(docLink);\n",
              "        }\n",
              "      </script>\n",
              "    </div>\n",
              "  </div>\n",
              "  "
            ]
          },
          "metadata": {}
        },
        {
          "output_type": "stream",
          "name": "stdout",
          "text": [
            "Number of columns: 32\n"
          ]
        }
      ]
    },
    {
      "cell_type": "markdown",
      "source": [
        "The following plot shows the comparison between the total amount of articles obtained each year, the number of articles that were selected after the title/abstract analysis (filtro_titol -> *f_titol = 1*) and the articles that included a PRO instrument within (filtro_instrumento -> *f_instrumento = 1*)"
      ],
      "metadata": {
        "id": "JNqnlN3Ndcrk"
      }
    },
    {
      "cell_type": "code",
      "source": [
        "x = np.arange(3)\n",
        "w = 0.3\n",
        "\n",
        "plt.bar(x - 0.3, [len(bd_2013_14), sum(bd_2013_14[\"filtro_titol\"]), sum(bd_2013_14[\"filtro_instrumento\"])], w)\n",
        "plt.bar(x, [len(bd_2015), sum(bd_2015[\"filtro_titol\"]), sum(bd_2015[\"filtro_instrumento\"])], w)\n",
        "plt.bar(x + 0.3, [len(bd_2016), sum(bd_2016[\"filtro_titol\"]), sum(bd_2016[\"filtro_instrumento\"])], w)\n",
        "plt.title(\"All articles vs Selected articles vs Articles with instruments\")\n",
        "plt.legend([\"2013-14\", \"2015\", \"2016\"])\n",
        "plt.xticks(x, [\"total_articles\", \"f_titol = 1\", \"f_instrumento = 1\"])\n",
        "\n",
        "plt.show()"
      ],
      "metadata": {
        "id": "tzATAb-wWQqC",
        "colab": {
          "base_uri": "https://localhost:8080/",
          "height": 282
        },
        "outputId": "1b92ea3d-7aa3-4e50-e690-1f00e8ab2da2"
      },
      "execution_count": 6,
      "outputs": [
        {
          "output_type": "display_data",
          "data": {
            "text/plain": [
              "<Figure size 432x288 with 1 Axes>"
            ],
            "image/png": "[encoded data removed]"
          },
          "metadata": {
            "needs_background": "light"
          }
        }
      ]
    },
    {
      "cell_type": "markdown",
      "source": [
        "This plot shows the real distribution of the articles analyzed, and reflects the amount of articles that actually contain a PRO instrument among all the articles that are analyzed. This is an important point to consider for further experiments, since it will be important to maintain the same percentage of articles with PRO questionnaires in the test set, and thus, get results that are closer to reality.\n",
        "\n",
        "---\n",
        "\n",
        "Related to this, I will compute the exact percentage of articles with a PROM (*filtro_instrumento = 1*) for further operations."
      ],
      "metadata": {
        "id": "li9cfXBvjcT3"
      }
    },
    {
      "cell_type": "code",
      "source": [
        "# computhe the percentage of articles with PROM\n",
        "n_articles = len(bd_2013_14) + len(bd_2015) + len(bd_2016)\n",
        "pro_articles = len(bd_2013_14[bd_2013_14[\"filtro_instrumento\"] == 1]) + len(bd_2015[bd_2015[\"filtro_instrumento\"] == 1]) + len(bd_2016[bd_2016[\"filtro_instrumento\"] == 1])\n",
        "\n",
        "print(f\"Percentage of PRO articles among total amount of articles: %{round(pro_articles/n_articles, 4) * 100}\")"
      ],
      "metadata": {
        "colab": {
          "base_uri": "https://localhost:8080/"
        },
        "id": "BuNA1i_TfoFx",
        "outputId": "60438aff-d7b6-4186-c8b9-f6901b912c24"
      },
      "execution_count": 7,
      "outputs": [
        {
          "output_type": "stream",
          "name": "stdout",
          "text": [
            "Percentage of PRO articles among total amount of articles: %18.33\n"
          ]
        }
      ]
    },
    {
      "cell_type": "markdown",
      "source": [
        "It can also be interesting to compute the percentage of articles that contain a PROM among the articles that are selected after the title/abstract selection (*filtro_titol = 1*)."
      ],
      "metadata": {
        "id": "su5o77LgmAyJ"
      }
    },
    {
      "cell_type": "code",
      "source": [
        "titol_articles = len(bd_2013_14[bd_2013_14[\"filtro_titol\"] == 1]) + len(bd_2015[bd_2015[\"filtro_titol\"] == 1]) + len(bd_2016[bd_2016[\"filtro_titol\"] == 1])\n",
        "print(f\"Percentage of PRO articles among selected articles after title/abstract revision: %{round(pro_articles/titol_articles, 4) * 100}\")"
      ],
      "metadata": {
        "colab": {
          "base_uri": "https://localhost:8080/"
        },
        "id": "F6OlL3fkmJsX",
        "outputId": "2a77b491-c418-485a-ba37-7b2a74103db7"
      },
      "execution_count": 8,
      "outputs": [
        {
          "output_type": "stream",
          "name": "stdout",
          "text": [
            "Percentage of PRO articles among selected articles after title/abstract revision: %65.22\n"
          ]
        }
      ]
    },
    {
      "cell_type": "markdown",
      "source": [
        "##Analyzing texts obtained from the articles"
      ],
      "metadata": {
        "id": "9xcGTGcJnfUD"
      }
    },
    {
      "cell_type": "markdown",
      "source": [
        "As a first approach to perform document classification and create a model that is able to separate articles with PROMs from those that do not contain any PROMs, summarized texts will be used. Thus, all the articles have been summarized to 25 sentences using Page-Rank algorithm with Jaccard simmilarity.\n",
        "\n",
        "---\n",
        "\n",
        "In the following cells, I will read all the summarized texts and analyze the number of sentences and the most frequent words for all of them."
      ],
      "metadata": {
        "id": "5IvY22frnyPo"
      }
    },
    {
      "cell_type": "code",
      "source": [
        "# define dictionaries to store article summaries\n",
        "pro_art_dict = {}\n",
        "no_pro_art_dict = {}\n",
        "no_titol_art_dict = {}\n",
        "\n",
        "for path in class_paths:\n",
        "  if path != notitol_data_path:\n",
        "    for year in os.listdir(path + \"summaries/\"):\n",
        "      filepaths = glob.glob(path + f\"summaries/{year}/*.txt\")\n",
        "      for filepath in filepaths:\n",
        "        filename = filepath.split(\"/\")[-1]\n",
        "        with open(filepath, 'r') as f:\n",
        "          text = f.read()\n",
        "        if path == pro_data_path:\n",
        "          pro_art_dict[filename] = text\n",
        "        else:\n",
        "          no_pro_art_dict[filename] = text\n",
        "  else:\n",
        "    filepaths = glob.glob(path + \"summaries/*.txt\")\n",
        "    for filepath in filepaths:\n",
        "        filename = filepath.split(\"/\")[-1]\n",
        "        with open(filepath, 'r') as f:\n",
        "          text = f.read()\n",
        "        no_titol_art_dict[filename] = text\n",
        "\n",
        "print(f\"pro_dict size: {len(pro_art_dict)}\\nno_pro_dict size: {len(no_pro_art_dict)}\\nno_titol_dict size: {len(no_titol_art_dict)}\")"
      ],
      "metadata": {
        "id": "etXSuco9vtXj",
        "colab": {
          "base_uri": "https://localhost:8080/"
        },
        "outputId": "1ddddb02-e3a3-439c-dabf-21d9d07a8cff"
      },
      "execution_count": 25,
      "outputs": [
        {
          "output_type": "stream",
          "name": "stdout",
          "text": [
            "pro_dict size: 1347\n",
            "no_pro_dict size: 727\n",
            "no_titol_dict size: 1067\n"
          ]
        }
      ]
    },
    {
      "cell_type": "markdown",
      "source": [
        "###Log-odd ratios\n",
        "\n",
        "In the following cells, I will compute the log-odd ratio for each word in order to see which are the most relevant words for each class.\n",
        "\n",
        "The first step, however, will be to remove the stopwords from the summaries."
      ],
      "metadata": {
        "id": "d8NiFIJ3auvs"
      }
    },
    {
      "cell_type": "code",
      "source": [],
      "metadata": {
        "id": "PDdlDWZubIzR"
      },
      "execution_count": null,
      "outputs": []
    }
  ]
}